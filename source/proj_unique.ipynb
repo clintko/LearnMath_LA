{
 "cells": [
  {
   "cell_type": "markdown",
   "metadata": {},
   "source": [
    "# The uniqueness of projection operator"
   ]
  },
  {
   "cell_type": "markdown",
   "metadata": {},
   "source": [
    "set environment"
   ]
  },
  {
   "cell_type": "code",
   "execution_count": 1,
   "metadata": {},
   "outputs": [],
   "source": [
    "import numpy as np"
   ]
  },
  {
   "cell_type": "markdown",
   "metadata": {},
   "source": [
    "## Define an example"
   ]
  },
  {
   "cell_type": "code",
   "execution_count": 2,
   "metadata": {},
   "outputs": [
    {
     "name": "stdout",
     "output_type": "stream",
     "text": [
      "[[1 1]\n",
      " [1 2]\n",
      " [1 3]\n",
      " [1 4]]\n"
     ]
    }
   ],
   "source": [
    "X = np.array([\n",
    "    [1, 1],\n",
    "    [1, 2],\n",
    "    [1, 3],\n",
    "    [1, 4]])\n",
    "print(X)"
   ]
  },
  {
   "cell_type": "markdown",
   "metadata": {},
   "source": [
    "## Create first Projection matrix"
   ]
  },
  {
   "cell_type": "markdown",
   "metadata": {},
   "source": [
    "QR decomposition to get a orthonormal basis of col(X)"
   ]
  },
  {
   "cell_type": "code",
   "execution_count": 3,
   "metadata": {},
   "outputs": [
    {
     "name": "stdout",
     "output_type": "stream",
     "text": [
      "[[-0.5         0.67082039]\n",
      " [-0.5         0.2236068 ]\n",
      " [-0.5        -0.2236068 ]\n",
      " [-0.5        -0.67082039]]\n"
     ]
    }
   ],
   "source": [
    "Qx,R = np.linalg.qr(X)\n",
    "print(Qx)"
   ]
  },
  {
   "cell_type": "markdown",
   "metadata": {},
   "source": [
    "Show that it is orthonormal basis"
   ]
  },
  {
   "cell_type": "code",
   "execution_count": 4,
   "metadata": {},
   "outputs": [
    {
     "name": "stdout",
     "output_type": "stream",
     "text": [
      "1.0\n",
      "0.9999999999999998\n",
      "8.326672684688674e-17\n"
     ]
    }
   ],
   "source": [
    "u = Qx[:,0]; v = Qx[:,1]\n",
    "print(u.dot(u))\n",
    "print(v.dot(v))\n",
    "print(u.dot(v))"
   ]
  },
  {
   "cell_type": "code",
   "execution_count": 5,
   "metadata": {},
   "outputs": [
    {
     "name": "stdout",
     "output_type": "stream",
     "text": [
      "[[ 0.7  0.4  0.1 -0.2]\n",
      " [ 0.4  0.3  0.2  0.1]\n",
      " [ 0.1  0.2  0.3  0.4]\n",
      " [-0.2  0.1  0.4  0.7]]\n"
     ]
    }
   ],
   "source": [
    "Px = Qx.dot(Qx.T)\n",
    "print(Px)"
   ]
  },
  {
   "cell_type": "markdown",
   "metadata": {},
   "source": [
    "## Create second projection matrix"
   ]
  },
  {
   "cell_type": "code",
   "execution_count": 6,
   "metadata": {},
   "outputs": [
    {
     "name": "stdout",
     "output_type": "stream",
     "text": [
      "[[1 1]\n",
      " [2 1]\n",
      " [3 1]\n",
      " [4 1]]\n"
     ]
    }
   ],
   "source": [
    "Y = X[:,[1,0]]\n",
    "print(Y)"
   ]
  },
  {
   "cell_type": "markdown",
   "metadata": {},
   "source": [
    "QR decomposition to get a orthonormal basis of col(X)"
   ]
  },
  {
   "cell_type": "code",
   "execution_count": 7,
   "metadata": {},
   "outputs": [
    {
     "name": "stdout",
     "output_type": "stream",
     "text": [
      "[[-1.82574186e-01 -8.16496581e-01]\n",
      " [-3.65148372e-01 -4.08248290e-01]\n",
      " [-5.47722558e-01 -5.55111512e-17]\n",
      " [-7.30296743e-01  4.08248290e-01]]\n"
     ]
    }
   ],
   "source": [
    "Qy,R = np.linalg.qr(Y)\n",
    "print(Qy)"
   ]
  },
  {
   "cell_type": "markdown",
   "metadata": {},
   "source": [
    "Show that it is orthonormal basis"
   ]
  },
  {
   "cell_type": "code",
   "execution_count": 8,
   "metadata": {},
   "outputs": [
    {
     "name": "stdout",
     "output_type": "stream",
     "text": [
      "0.9999999999999998\n",
      "0.9999999999999999\n",
      "5.551115123125783e-17\n"
     ]
    }
   ],
   "source": [
    "u = Qy[:,0]; v = Qy[:,1]\n",
    "print(u.dot(u))\n",
    "print(v.dot(v))\n",
    "print(u.dot(v))"
   ]
  },
  {
   "cell_type": "code",
   "execution_count": 9,
   "metadata": {},
   "outputs": [
    {
     "name": "stdout",
     "output_type": "stream",
     "text": [
      "[[ 0.7  0.4  0.1 -0.2]\n",
      " [ 0.4  0.3  0.2  0.1]\n",
      " [ 0.1  0.2  0.3  0.4]\n",
      " [-0.2  0.1  0.4  0.7]]\n"
     ]
    }
   ],
   "source": [
    "Py = Qy.dot(Qy.T)\n",
    "print(Py)"
   ]
  },
  {
   "cell_type": "markdown",
   "metadata": {},
   "source": [
    "## Create third projection matrix"
   ]
  },
  {
   "cell_type": "code",
   "execution_count": 10,
   "metadata": {},
   "outputs": [
    {
     "name": "stdout",
     "output_type": "stream",
     "text": [
      "[[2 1]\n",
      " [3 2]\n",
      " [4 3]\n",
      " [5 4]]\n"
     ]
    }
   ],
   "source": [
    "Z = X\n",
    "Z[:,0] = Z[:,0] + Z[:,1]\n",
    "print(Z)"
   ]
  },
  {
   "cell_type": "markdown",
   "metadata": {},
   "source": [
    "QR decomposition to get a orthonormal basis of col(X)"
   ]
  },
  {
   "cell_type": "code",
   "execution_count": 11,
   "metadata": {},
   "outputs": [
    {
     "name": "stdout",
     "output_type": "stream",
     "text": [
      "[[-0.27216553 -0.79115481]\n",
      " [-0.40824829 -0.36514837]\n",
      " [-0.54433105  0.06085806]\n",
      " [-0.68041382  0.4868645 ]]\n"
     ]
    }
   ],
   "source": [
    "Qz,R = np.linalg.qr(Z)\n",
    "print(Qz)"
   ]
  },
  {
   "cell_type": "code",
   "execution_count": 12,
   "metadata": {},
   "outputs": [
    {
     "data": {
      "text/plain": [
       "array([[ 0.7,  0.4,  0.1, -0.2],\n",
       "       [ 0.4,  0.3,  0.2,  0.1],\n",
       "       [ 0.1,  0.2,  0.3,  0.4],\n",
       "       [-0.2,  0.1,  0.4,  0.7]])"
      ]
     },
     "execution_count": 12,
     "metadata": {},
     "output_type": "execute_result"
    }
   ],
   "source": [
    "Pz = Qz.dot(Qz.T)\n",
    "Pz"
   ]
  },
  {
   "cell_type": "markdown",
   "metadata": {},
   "source": [
    "## Compare all the projection matrix on the same column space"
   ]
  },
  {
   "cell_type": "code",
   "execution_count": 13,
   "metadata": {},
   "outputs": [
    {
     "name": "stdout",
     "output_type": "stream",
     "text": [
      "[[ 0.7  0.4  0.1 -0.2]\n",
      " [ 0.4  0.3  0.2  0.1]\n",
      " [ 0.1  0.2  0.3  0.4]\n",
      " [-0.2  0.1  0.4  0.7]]\n"
     ]
    }
   ],
   "source": [
    "print(Px)"
   ]
  },
  {
   "cell_type": "code",
   "execution_count": 14,
   "metadata": {},
   "outputs": [
    {
     "name": "stdout",
     "output_type": "stream",
     "text": [
      "[[ 0.7  0.4  0.1 -0.2]\n",
      " [ 0.4  0.3  0.2  0.1]\n",
      " [ 0.1  0.2  0.3  0.4]\n",
      " [-0.2  0.1  0.4  0.7]]\n"
     ]
    }
   ],
   "source": [
    "print(Py)"
   ]
  },
  {
   "cell_type": "code",
   "execution_count": 15,
   "metadata": {},
   "outputs": [
    {
     "name": "stdout",
     "output_type": "stream",
     "text": [
      "[[ 0.7  0.4  0.1 -0.2]\n",
      " [ 0.4  0.3  0.2  0.1]\n",
      " [ 0.1  0.2  0.3  0.4]\n",
      " [-0.2  0.1  0.4  0.7]]\n"
     ]
    }
   ],
   "source": [
    "print(Pz)"
   ]
  }
 ],
 "metadata": {
  "kernelspec": {
   "display_name": "Python 3",
   "language": "python",
   "name": "python3"
  },
  "language_info": {
   "codemirror_mode": {
    "name": "ipython",
    "version": 3
   },
   "file_extension": ".py",
   "mimetype": "text/x-python",
   "name": "python",
   "nbconvert_exporter": "python",
   "pygments_lexer": "ipython3",
   "version": "3.7.3"
  }
 },
 "nbformat": 4,
 "nbformat_minor": 2
}
